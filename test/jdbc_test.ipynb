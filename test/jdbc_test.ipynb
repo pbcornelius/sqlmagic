{
 "cells": [
  {
   "cell_type": "markdown",
   "metadata": {},
   "source": [
    "# `jdbc_magic` Test"
   ]
  },
  {
   "cell_type": "markdown",
   "metadata": {},
   "source": [
    "## Setup"
   ]
  },
  {
   "cell_type": "markdown",
   "metadata": {},
   "source": [
    "Automatically reloads the Python code when `%reload_ext` is used (necessary if code was updated):"
   ]
  },
  {
   "cell_type": "code",
   "execution_count": 1,
   "metadata": {},
   "outputs": [],
   "source": [
    "%load_ext autoreload"
   ]
  },
  {
   "cell_type": "code",
   "execution_count": 2,
   "metadata": {},
   "outputs": [],
   "source": [
    "%autoreload 2"
   ]
  },
  {
   "cell_type": "markdown",
   "metadata": {},
   "source": [
    "Load magic:"
   ]
  },
  {
   "cell_type": "code",
   "execution_count": 3,
   "metadata": {},
   "outputs": [
    {
     "name": "stdout",
     "output_type": "stream",
     "text": [
      "sqlmagic loaded\n"
     ]
    }
   ],
   "source": [
    "%load_ext jdbc_magic"
   ]
  },
  {
   "cell_type": "markdown",
   "metadata": {},
   "source": [
    "Reload magic (only after loaded and code was changed):"
   ]
  },
  {
   "cell_type": "code",
   "execution_count": 19,
   "metadata": {},
   "outputs": [
    {
     "name": "stdout",
     "output_type": "stream",
     "text": [
      "sqlmagic loaded\n"
     ]
    }
   ],
   "source": [
    "%reload_ext jdbc_magic"
   ]
  },
  {
   "cell_type": "markdown",
   "metadata": {},
   "source": [
    "## Tests"
   ]
  },
  {
   "cell_type": "markdown",
   "metadata": {},
   "source": [
    "Connect:\n",
    "\n",
    "Note: if the database doesn't exist, the H2 server needs to be started with the [`-ifNotExists` flag](http://h2database.com/html/tutorial.html?highlight=ifNotExists&search=ifnotexist#firstFound)."
   ]
  },
  {
   "cell_type": "code",
   "execution_count": 22,
   "metadata": {},
   "outputs": [
    {
     "name": "stdout",
     "output_type": "stream",
     "text": [
      "connected to dbMeta2: conn2: url=jdbc:h2:tcp://localhost:9092/./test/test user=SA\n"
     ]
    }
   ],
   "source": [
    "%%connect\n",
    "\n",
    "jclassname=org.h2.Driver\n",
    "url=jdbc:h2:tcp://localhost:9092/./test/test\n",
    "driver_args=sa;\n",
    "jars=C:/Users/corne/Databases/h2-1.4.199.jar"
   ]
  },
  {
   "cell_type": "markdown",
   "metadata": {},
   "source": [
    "Create table:"
   ]
  },
  {
   "cell_type": "code",
   "execution_count": 23,
   "metadata": {},
   "outputs": [
    {
     "data": {
      "application/vnd.jupyter.widget-view+json": {
       "model_id": "",
       "version_major": 2,
       "version_minor": 0
      },
      "text/plain": [
       "HBox(children=(Label(value='initialising ...', layout=Layout(height='initial', margin='0')), Button(button_sty…"
      ]
     },
     "metadata": {},
     "output_type": "display_data"
    },
    {
     "name": "stdout",
     "output_type": "stream",
     "text": [
      "Statement completed in 0:00:00.025765\n",
      "0 rows updated\n"
     ]
    }
   ],
   "source": [
    "%%sqlm\n",
    "\n",
    "CREATE TABLE test(test0 BIGINT PRIMARY KEY AUTO_INCREMENT, test1 VARCHAR);"
   ]
  },
  {
   "cell_type": "markdown",
   "metadata": {},
   "source": [
    "Fill table:\n",
    "\n",
    "Note: this will take some time. `@LOOP` does not work through the JDBC driver."
   ]
  },
  {
   "cell_type": "code",
   "execution_count": 31,
   "metadata": {},
   "outputs": [],
   "source": [
    "for _ in range(1000000):\n",
    "    cursor.execute('INSERT INTO test VALUES (NULL, RAND())')"
   ]
  },
  {
   "cell_type": "markdown",
   "metadata": {},
   "source": [
    "Query:"
   ]
  },
  {
   "cell_type": "code",
   "execution_count": 32,
   "metadata": {
    "scrolled": true
   },
   "outputs": [
    {
     "data": {
      "application/vnd.jupyter.widget-view+json": {
       "model_id": "",
       "version_major": 2,
       "version_minor": 0
      },
      "text/plain": [
       "HBox(children=(Label(value='initialising ...', layout=Layout(height='initial', margin='0')), Button(button_sty…"
      ]
     },
     "metadata": {},
     "output_type": "display_data"
    },
    {
     "name": "stdout",
     "output_type": "stream",
     "text": [
      "Statement completed in 0:00:00.003003\n"
     ]
    },
    {
     "data": {
      "text/html": [
       "<div>\n",
       "<style scoped>\n",
       "    .dataframe tbody tr th:only-of-type {\n",
       "        vertical-align: middle;\n",
       "    }\n",
       "\n",
       "    .dataframe tbody tr th {\n",
       "        vertical-align: top;\n",
       "    }\n",
       "\n",
       "    .dataframe thead th {\n",
       "        text-align: right;\n",
       "    }\n",
       "</style>\n",
       "<table border=\"1\" class=\"dataframe\">\n",
       "  <thead>\n",
       "    <tr style=\"text-align: right;\">\n",
       "      <th></th>\n",
       "      <th>COUNT(*)</th>\n",
       "    </tr>\n",
       "  </thead>\n",
       "  <tbody>\n",
       "    <tr>\n",
       "      <th>0</th>\n",
       "      <td>1002000</td>\n",
       "    </tr>\n",
       "  </tbody>\n",
       "</table>\n",
       "</div>"
      ],
      "text/plain": [
       "   COUNT(*)\n",
       "0   1002000"
      ]
     },
     "metadata": {},
     "output_type": "display_data"
    }
   ],
   "source": [
    "%%sqlm\n",
    "\n",
    "SELECT COUNT(*)\n",
    "FROM test"
   ]
  },
  {
   "cell_type": "code",
   "execution_count": 33,
   "metadata": {
    "scrolled": true
   },
   "outputs": [
    {
     "data": {
      "application/vnd.jupyter.widget-view+json": {
       "model_id": "",
       "version_major": 2,
       "version_minor": 0
      },
      "text/plain": [
       "HBox(children=(Label(value='initialising ...', layout=Layout(height='initial', margin='0')), Button(button_sty…"
      ]
     },
     "metadata": {},
     "output_type": "display_data"
    },
    {
     "name": "stdout",
     "output_type": "stream",
     "text": [
      "Statement completed in 0:00:00.003467\n"
     ]
    },
    {
     "data": {
      "text/html": [
       "<div>\n",
       "<style scoped>\n",
       "    .dataframe tbody tr th:only-of-type {\n",
       "        vertical-align: middle;\n",
       "    }\n",
       "\n",
       "    .dataframe tbody tr th {\n",
       "        vertical-align: top;\n",
       "    }\n",
       "\n",
       "    .dataframe thead th {\n",
       "        text-align: right;\n",
       "    }\n",
       "</style>\n",
       "<table border=\"1\" class=\"dataframe\">\n",
       "  <thead>\n",
       "    <tr style=\"text-align: right;\">\n",
       "      <th></th>\n",
       "      <th>TEST0</th>\n",
       "      <th>TEST1</th>\n",
       "    </tr>\n",
       "  </thead>\n",
       "  <tbody>\n",
       "    <tr>\n",
       "      <th>0</th>\n",
       "      <td>1</td>\n",
       "      <td>0.050176299388961176</td>\n",
       "    </tr>\n",
       "    <tr>\n",
       "      <th>1</th>\n",
       "      <td>2</td>\n",
       "      <td>0.22130001304981628</td>\n",
       "    </tr>\n",
       "    <tr>\n",
       "      <th>2</th>\n",
       "      <td>3</td>\n",
       "      <td>0.9438640378895211</td>\n",
       "    </tr>\n",
       "    <tr>\n",
       "      <th>3</th>\n",
       "      <td>4</td>\n",
       "      <td>0.2953070340113778</td>\n",
       "    </tr>\n",
       "    <tr>\n",
       "      <th>4</th>\n",
       "      <td>5</td>\n",
       "      <td>0.552884094166907</td>\n",
       "    </tr>\n",
       "    <tr>\n",
       "      <th>...</th>\n",
       "      <td>...</td>\n",
       "      <td>...</td>\n",
       "    </tr>\n",
       "    <tr>\n",
       "      <th>95</th>\n",
       "      <td>96</td>\n",
       "      <td>0.33013856121470475</td>\n",
       "    </tr>\n",
       "    <tr>\n",
       "      <th>96</th>\n",
       "      <td>97</td>\n",
       "      <td>0.31597774570255976</td>\n",
       "    </tr>\n",
       "    <tr>\n",
       "      <th>97</th>\n",
       "      <td>98</td>\n",
       "      <td>0.7414177315544174</td>\n",
       "    </tr>\n",
       "    <tr>\n",
       "      <th>98</th>\n",
       "      <td>99</td>\n",
       "      <td>0.5167158349535897</td>\n",
       "    </tr>\n",
       "    <tr>\n",
       "      <th>99</th>\n",
       "      <td>100</td>\n",
       "      <td>0.5161159819895549</td>\n",
       "    </tr>\n",
       "  </tbody>\n",
       "</table>\n",
       "<p>100 rows × 2 columns</p>\n",
       "</div>"
      ],
      "text/plain": [
       "    TEST0                 TEST1\n",
       "0       1  0.050176299388961176\n",
       "1       2   0.22130001304981628\n",
       "2       3    0.9438640378895211\n",
       "3       4    0.2953070340113778\n",
       "4       5     0.552884094166907\n",
       "..    ...                   ...\n",
       "95     96   0.33013856121470475\n",
       "96     97   0.31597774570255976\n",
       "97     98    0.7414177315544174\n",
       "98     99    0.5167158349535897\n",
       "99    100    0.5161159819895549\n",
       "\n",
       "[100 rows x 2 columns]"
      ]
     },
     "metadata": {},
     "output_type": "display_data"
    }
   ],
   "source": [
    "%%sqlm\n",
    "\n",
    "SELECT TOP 100 *\n",
    "FROM test"
   ]
  },
  {
   "cell_type": "code",
   "execution_count": 34,
   "metadata": {},
   "outputs": [
    {
     "data": {
      "text/html": [
       "<div>\n",
       "<style scoped>\n",
       "    .dataframe tbody tr th:only-of-type {\n",
       "        vertical-align: middle;\n",
       "    }\n",
       "\n",
       "    .dataframe tbody tr th {\n",
       "        vertical-align: top;\n",
       "    }\n",
       "\n",
       "    .dataframe thead th {\n",
       "        text-align: right;\n",
       "    }\n",
       "</style>\n",
       "<table border=\"1\" class=\"dataframe\">\n",
       "  <thead>\n",
       "    <tr style=\"text-align: right;\">\n",
       "      <th></th>\n",
       "      <th>TEST0</th>\n",
       "      <th>TEST1</th>\n",
       "    </tr>\n",
       "  </thead>\n",
       "  <tbody>\n",
       "    <tr>\n",
       "      <th>0</th>\n",
       "      <td>1</td>\n",
       "      <td>0.050176299388961176</td>\n",
       "    </tr>\n",
       "    <tr>\n",
       "      <th>1</th>\n",
       "      <td>2</td>\n",
       "      <td>0.22130001304981628</td>\n",
       "    </tr>\n",
       "    <tr>\n",
       "      <th>2</th>\n",
       "      <td>3</td>\n",
       "      <td>0.9438640378895211</td>\n",
       "    </tr>\n",
       "    <tr>\n",
       "      <th>3</th>\n",
       "      <td>4</td>\n",
       "      <td>0.2953070340113778</td>\n",
       "    </tr>\n",
       "    <tr>\n",
       "      <th>4</th>\n",
       "      <td>5</td>\n",
       "      <td>0.552884094166907</td>\n",
       "    </tr>\n",
       "    <tr>\n",
       "      <th>...</th>\n",
       "      <td>...</td>\n",
       "      <td>...</td>\n",
       "    </tr>\n",
       "    <tr>\n",
       "      <th>95</th>\n",
       "      <td>96</td>\n",
       "      <td>0.33013856121470475</td>\n",
       "    </tr>\n",
       "    <tr>\n",
       "      <th>96</th>\n",
       "      <td>97</td>\n",
       "      <td>0.31597774570255976</td>\n",
       "    </tr>\n",
       "    <tr>\n",
       "      <th>97</th>\n",
       "      <td>98</td>\n",
       "      <td>0.7414177315544174</td>\n",
       "    </tr>\n",
       "    <tr>\n",
       "      <th>98</th>\n",
       "      <td>99</td>\n",
       "      <td>0.5167158349535897</td>\n",
       "    </tr>\n",
       "    <tr>\n",
       "      <th>99</th>\n",
       "      <td>100</td>\n",
       "      <td>0.5161159819895549</td>\n",
       "    </tr>\n",
       "  </tbody>\n",
       "</table>\n",
       "<p>100 rows × 2 columns</p>\n",
       "</div>"
      ],
      "text/plain": [
       "    TEST0                 TEST1\n",
       "0       1  0.050176299388961176\n",
       "1       2   0.22130001304981628\n",
       "2       3    0.9438640378895211\n",
       "3       4    0.2953070340113778\n",
       "4       5     0.552884094166907\n",
       "..    ...                   ...\n",
       "95     96   0.33013856121470475\n",
       "96     97   0.31597774570255976\n",
       "97     98    0.7414177315544174\n",
       "98     99    0.5167158349535897\n",
       "99    100    0.5161159819895549\n",
       "\n",
       "[100 rows x 2 columns]"
      ]
     },
     "execution_count": 34,
     "metadata": {},
     "output_type": "execute_result"
    }
   ],
   "source": [
    "df"
   ]
  },
  {
   "cell_type": "markdown",
   "metadata": {},
   "source": [
    "Error:"
   ]
  },
  {
   "cell_type": "code",
   "execution_count": 35,
   "metadata": {
    "scrolled": true
   },
   "outputs": [
    {
     "data": {
      "application/vnd.jupyter.widget-view+json": {
       "model_id": "",
       "version_major": 2,
       "version_minor": 0
      },
      "text/plain": [
       "HBox(children=(Label(value='initialising ...', layout=Layout(height='initial', margin='0')), Button(button_sty…"
      ]
     },
     "metadata": {},
     "output_type": "display_data"
    },
    {
     "name": "stderr",
     "output_type": "stream",
     "text": [
      "exception calling callback for <Future at 0x1eeff727438 state=finished returned NoneType>\n",
      "Traceback (most recent call last):\n",
      "  File \"C:\\Users\\corne\\Anaconda3\\envs\\python37\\lib\\concurrent\\futures\\_base.py\", line 324, in _invoke_callbacks\n",
      "    callback(self)\n",
      "  File \"C:\\Users\\corne\\Git\\sqlmagic\\src\\sql_magic.py\", line 174, in statement_done\n",
      "    raise self.exc_info[1].with_traceback(self.exc_info[2])\n",
      "  File \"C:\\Users\\corne\\Git\\sqlmagic\\src\\sql_magic.py\", line 129, in exec_statement\n",
      "    self.cursor.execute(sql)\n",
      "  File \"C:\\Users\\corne\\Anaconda3\\envs\\python37\\lib\\site-packages\\jaydebeapi-1.1.1-py3.7.egg\\jaydebeapi\\__init__.py\", line 518, in execute\n",
      "    self._prep = self._connection.jconn.prepareStatement(operation)\n",
      "jpype._jclass.org.h2.jdbc.JdbcSQLSyntaxErrorException: org.h2.jdbc.JdbcSQLSyntaxErrorException: Table \"TESTS\" not found; SQL statement:\n",
      "\n",
      "SELECT TOP 100 *\n",
      "FROM tests\n",
      " [42102-199]\r\n",
      "\tat org.h2.message.DbException.getJdbcSQLException(DbException.java:451)\r\n",
      "\tat org.h2.message.DbException.getJdbcSQLException(DbException.java:427)\r\n",
      "\tat org.h2.message.DbException.get(DbException.java:205)\r\n",
      "\tat org.h2.message.DbException.get(DbException.java:181)\r\n",
      "\tat org.h2.command.Parser.readTableOrView(Parser.java:7146)\r\n",
      "\tat org.h2.command.Parser.readTableFilter(Parser.java:1895)\r\n",
      "\tat org.h2.command.Parser.parseSelectSimpleFromPart(Parser.java:2641)\r\n",
      "\tat org.h2.command.Parser.parseSelectSimple(Parser.java:2788)\r\n",
      "\tat org.h2.command.Parser.parseSelectSub(Parser.java:2636)\r\n",
      "\tat org.h2.command.Parser.parseSelectUnion(Parser.java:2469)\r\n",
      "\tat org.h2.command.Parser.parseSelect(Parser.java:2440)\r\n",
      "\tat org.h2.command.Parser.parsePrepared(Parser.java:814)\r\n",
      "\tat org.h2.command.Parser.parse(Parser.java:788)\r\n",
      "\tat org.h2.command.Parser.parse(Parser.java:760)\r\n",
      "\tat org.h2.command.Parser.prepareCommand(Parser.java:683)\r\n",
      "\tat org.h2.engine.Session.prepareLocal(Session.java:627)\r\n",
      "\tat org.h2.server.TcpServerThread.process(TcpServerThread.java:270)\r\n",
      "\tat org.h2.server.TcpServerThread.run(TcpServerThread.java:175)\r\n",
      "\tat java.base/java.lang.Thread.run(Thread.java:835)\r\n",
      "\n"
     ]
    }
   ],
   "source": [
    "%%sqlm\n",
    "\n",
    "SELECT TOP 100 *\n",
    "FROM tests"
   ]
  },
  {
   "cell_type": "markdown",
   "metadata": {},
   "source": [
    "Cancel:"
   ]
  },
  {
   "cell_type": "code",
   "execution_count": 37,
   "metadata": {
    "scrolled": true
   },
   "outputs": [
    {
     "data": {
      "application/vnd.jupyter.widget-view+json": {
       "model_id": "",
       "version_major": 2,
       "version_minor": 0
      },
      "text/plain": [
       "HBox(children=(Label(value='initialising ...', layout=Layout(height='initial', margin='0')), Button(button_sty…"
      ]
     },
     "metadata": {},
     "output_type": "display_data"
    },
    {
     "name": "stdout",
     "output_type": "stream",
     "text": [
      "Statement cancelled after 0:00:02.920587\n"
     ]
    }
   ],
   "source": [
    "%%sqlm\n",
    "\n",
    "SELECT TOP 100 *\n",
    "FROM test\n",
    "ORDER BY RAND()"
   ]
  },
  {
   "cell_type": "code",
   "execution_count": 39,
   "metadata": {},
   "outputs": [
    {
     "data": {
      "application/vnd.jupyter.widget-view+json": {
       "model_id": "",
       "version_major": 2,
       "version_minor": 0
      },
      "text/plain": [
       "HBox(children=(Label(value='initialising ...', layout=Layout(height='initial', margin='0')), Button(button_sty…"
      ]
     },
     "metadata": {},
     "output_type": "display_data"
    },
    {
     "name": "stdout",
     "output_type": "stream",
     "text": [
      "Statement completed in 0:00:00.002877\n",
      "100 rows returned to out\n"
     ]
    }
   ],
   "source": [
    "%%sqlm var=out noprint\n",
    "\n",
    "SELECT TOP 100 *\n",
    "FROM test"
   ]
  },
  {
   "cell_type": "code",
   "execution_count": 40,
   "metadata": {
    "scrolled": true
   },
   "outputs": [
    {
     "data": {
      "text/html": [
       "<div>\n",
       "<style scoped>\n",
       "    .dataframe tbody tr th:only-of-type {\n",
       "        vertical-align: middle;\n",
       "    }\n",
       "\n",
       "    .dataframe tbody tr th {\n",
       "        vertical-align: top;\n",
       "    }\n",
       "\n",
       "    .dataframe thead th {\n",
       "        text-align: right;\n",
       "    }\n",
       "</style>\n",
       "<table border=\"1\" class=\"dataframe\">\n",
       "  <thead>\n",
       "    <tr style=\"text-align: right;\">\n",
       "      <th></th>\n",
       "      <th>TEST0</th>\n",
       "      <th>TEST1</th>\n",
       "    </tr>\n",
       "  </thead>\n",
       "  <tbody>\n",
       "    <tr>\n",
       "      <th>0</th>\n",
       "      <td>1</td>\n",
       "      <td>0.050176299388961176</td>\n",
       "    </tr>\n",
       "    <tr>\n",
       "      <th>1</th>\n",
       "      <td>2</td>\n",
       "      <td>0.22130001304981628</td>\n",
       "    </tr>\n",
       "    <tr>\n",
       "      <th>2</th>\n",
       "      <td>3</td>\n",
       "      <td>0.9438640378895211</td>\n",
       "    </tr>\n",
       "    <tr>\n",
       "      <th>3</th>\n",
       "      <td>4</td>\n",
       "      <td>0.2953070340113778</td>\n",
       "    </tr>\n",
       "    <tr>\n",
       "      <th>4</th>\n",
       "      <td>5</td>\n",
       "      <td>0.552884094166907</td>\n",
       "    </tr>\n",
       "    <tr>\n",
       "      <th>...</th>\n",
       "      <td>...</td>\n",
       "      <td>...</td>\n",
       "    </tr>\n",
       "    <tr>\n",
       "      <th>95</th>\n",
       "      <td>96</td>\n",
       "      <td>0.33013856121470475</td>\n",
       "    </tr>\n",
       "    <tr>\n",
       "      <th>96</th>\n",
       "      <td>97</td>\n",
       "      <td>0.31597774570255976</td>\n",
       "    </tr>\n",
       "    <tr>\n",
       "      <th>97</th>\n",
       "      <td>98</td>\n",
       "      <td>0.7414177315544174</td>\n",
       "    </tr>\n",
       "    <tr>\n",
       "      <th>98</th>\n",
       "      <td>99</td>\n",
       "      <td>0.5167158349535897</td>\n",
       "    </tr>\n",
       "    <tr>\n",
       "      <th>99</th>\n",
       "      <td>100</td>\n",
       "      <td>0.5161159819895549</td>\n",
       "    </tr>\n",
       "  </tbody>\n",
       "</table>\n",
       "<p>100 rows × 2 columns</p>\n",
       "</div>"
      ],
      "text/plain": [
       "    TEST0                 TEST1\n",
       "0       1  0.050176299388961176\n",
       "1       2   0.22130001304981628\n",
       "2       3    0.9438640378895211\n",
       "3       4    0.2953070340113778\n",
       "4       5     0.552884094166907\n",
       "..    ...                   ...\n",
       "95     96   0.33013856121470475\n",
       "96     97   0.31597774570255976\n",
       "97     98    0.7414177315544174\n",
       "98     99    0.5167158349535897\n",
       "99    100    0.5161159819895549\n",
       "\n",
       "[100 rows x 2 columns]"
      ]
     },
     "execution_count": 40,
     "metadata": {},
     "output_type": "execute_result"
    }
   ],
   "source": [
    "out"
   ]
  },
  {
   "cell_type": "markdown",
   "metadata": {},
   "source": [
    "Close:"
   ]
  },
  {
   "cell_type": "code",
   "execution_count": 41,
   "metadata": {},
   "outputs": [
    {
     "name": "stdout",
     "output_type": "stream",
     "text": [
      "connection closed\n"
     ]
    }
   ],
   "source": [
    "%close"
   ]
  }
 ],
 "metadata": {
  "kernelspec": {
   "display_name": "Python 3",
   "language": "python",
   "name": "python3"
  },
  "language_info": {
   "codemirror_mode": {
    "name": "ipython",
    "version": 3
   },
   "file_extension": ".py",
   "mimetype": "text/x-python",
   "name": "python",
   "nbconvert_exporter": "python",
   "pygments_lexer": "ipython3",
   "version": "3.7.3"
  }
 },
 "nbformat": 4,
 "nbformat_minor": 2
}
